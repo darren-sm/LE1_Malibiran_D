{
 "cells": [
  {
   "cell_type": "markdown",
   "metadata": {
    "id": "2pl4lwRmb_1E"
   },
   "source": [
    "# ML Activity\n",
    "Darren S. Malibiran\n",
    "CS - 4202\n",
    "\n",
    "**Contents**\n",
    "- I. Libraries\n",
    "- II. Dataset\n",
    "- III. Data Preprocessing\n",
    "- IV. Features (`X`) and Target (`y`)\n",
    "- V. Train and Test subsets\n",
    "- VI. Models\n",
    "- VII. Multilinear Regression Model\n",
    "- VIII. Saving the Model"
   ]
  },
  {
   "cell_type": "markdown",
   "metadata": {
    "id": "B6IWlYx0cIQ7"
   },
   "source": [
    "## I. Libraries <a class=\"anchor\" id=\"first\"></a>"
   ]
  },
  {
   "cell_type": "code",
   "execution_count": 1,
   "metadata": {
    "id": "AlATTtJTaXIr"
   },
   "outputs": [
    {
     "name": "stdout",
     "output_type": "stream",
     "text": [
      "Requirement already satisfied: pandas in ./venv/lib/python3.10/site-packages (2.2.2)\n",
      "Requirement already satisfied: numpy in ./venv/lib/python3.10/site-packages (1.26.4)\n",
      "Requirement already satisfied: pytz>=2020.1 in ./venv/lib/python3.10/site-packages (from pandas) (2024.1)\n",
      "Requirement already satisfied: tzdata>=2022.7 in ./venv/lib/python3.10/site-packages (from pandas) (2024.1)\n",
      "Requirement already satisfied: python-dateutil>=2.8.2 in ./venv/lib/python3.10/site-packages (from pandas) (2.9.0.post0)\n",
      "Requirement already satisfied: six>=1.5 in ./venv/lib/python3.10/site-packages (from python-dateutil>=2.8.2->pandas) (1.16.0)\n",
      "Requirement already satisfied: scikit-learn in ./venv/lib/python3.10/site-packages (1.4.2)\n",
      "Requirement already satisfied: numpy>=1.19.5 in ./venv/lib/python3.10/site-packages (from scikit-learn) (1.26.4)\n",
      "Requirement already satisfied: threadpoolctl>=2.0.0 in ./venv/lib/python3.10/site-packages (from scikit-learn) (3.5.0)\n",
      "Requirement already satisfied: joblib>=1.2.0 in ./venv/lib/python3.10/site-packages (from scikit-learn) (1.4.2)\n",
      "Requirement already satisfied: scipy>=1.6.0 in ./venv/lib/python3.10/site-packages (from scikit-learn) (1.13.0)\n",
      "Requirement already satisfied: seaborn in ./venv/lib/python3.10/site-packages (0.13.2)\n",
      "Requirement already satisfied: numpy!=1.24.0,>=1.20 in ./venv/lib/python3.10/site-packages (from seaborn) (1.26.4)\n",
      "Requirement already satisfied: pandas>=1.2 in ./venv/lib/python3.10/site-packages (from seaborn) (2.2.2)\n",
      "Requirement already satisfied: matplotlib!=3.6.1,>=3.4 in ./venv/lib/python3.10/site-packages (from seaborn) (3.8.4)\n",
      "Requirement already satisfied: packaging>=20.0 in ./venv/lib/python3.10/site-packages (from matplotlib!=3.6.1,>=3.4->seaborn) (24.0)\n",
      "Requirement already satisfied: fonttools>=4.22.0 in ./venv/lib/python3.10/site-packages (from matplotlib!=3.6.1,>=3.4->seaborn) (4.51.0)\n",
      "Requirement already satisfied: pillow>=8 in ./venv/lib/python3.10/site-packages (from matplotlib!=3.6.1,>=3.4->seaborn) (10.3.0)\n",
      "Requirement already satisfied: cycler>=0.10 in ./venv/lib/python3.10/site-packages (from matplotlib!=3.6.1,>=3.4->seaborn) (0.12.1)\n",
      "Requirement already satisfied: pyparsing>=2.3.1 in ./venv/lib/python3.10/site-packages (from matplotlib!=3.6.1,>=3.4->seaborn) (3.1.2)\n",
      "Requirement already satisfied: python-dateutil>=2.7 in ./venv/lib/python3.10/site-packages (from matplotlib!=3.6.1,>=3.4->seaborn) (2.9.0.post0)\n",
      "Requirement already satisfied: contourpy>=1.0.1 in ./venv/lib/python3.10/site-packages (from matplotlib!=3.6.1,>=3.4->seaborn) (1.2.1)\n",
      "Requirement already satisfied: kiwisolver>=1.3.1 in ./venv/lib/python3.10/site-packages (from matplotlib!=3.6.1,>=3.4->seaborn) (1.4.5)\n",
      "Requirement already satisfied: pytz>=2020.1 in ./venv/lib/python3.10/site-packages (from pandas>=1.2->seaborn) (2024.1)\n",
      "Requirement already satisfied: tzdata>=2022.7 in ./venv/lib/python3.10/site-packages (from pandas>=1.2->seaborn) (2024.1)\n",
      "Requirement already satisfied: six>=1.5 in ./venv/lib/python3.10/site-packages (from python-dateutil>=2.7->matplotlib!=3.6.1,>=3.4->seaborn) (1.16.0)\n"
     ]
    }
   ],
   "source": [
    "!pip install pandas numpy\n",
    "!pip install scikit-learn\n",
    "!pip install seaborn"
   ]
  },
  {
   "cell_type": "markdown",
   "metadata": {
    "id": "Z1jVCmApfFOs",
    "jp-MarkdownHeadingCollapsed": true
   },
   "source": [
    "## II. Dataset <a class=\"anchor\" id=\"second\"></a>\n",
    "- Compute Hardware from UCI\n",
    "- Variables:\n",
    "    - VendorName: STR\n",
    "    - MMAX (maximum main memory): INT\n",
    "    - CACH (cache memory): INT\n",
    "    - CHMAX (maximum channels): INT\n",
    "    - PRP (published relative performance)\n",
    "  \n",
    "> Check complete details with `data.dtypes`"
   ]
  },
  {
   "cell_type": "markdown",
   "metadata": {
    "id": "PeYtoBaWf954"
   },
   "source": [
    "### Get the dataset\n",
    "- You can download the file and upload it here or on GDrive (+ connect)\n",
    "  - or simply download it in this Colab Session"
   ]
  },
  {
   "cell_type": "code",
   "execution_count": 2,
   "metadata": {
    "colab": {
     "base_uri": "https://localhost:8080/"
    },
    "id": "xvzAqVppe_3T",
    "outputId": "7cb98008-f5a6-404c-e6d1-47f93ab3c767"
   },
   "outputs": [
    {
     "name": "stdout",
     "output_type": "stream",
     "text": [
      "  % Total    % Received % Xferd  Average Speed   Time    Time     Time  Current\n",
      "                                 Dload  Upload   Total   Spent    Left  Speed\n",
      "100  4482    0  4482    0     0   3788      0 --:--:--  0:00:01 --:--:--  3788\n"
     ]
    }
   ],
   "source": [
    "!curl -o \"harware.zip\" https://archive.ics.uci.edu/static/public/29/computer+hardware.zip"
   ]
  },
  {
   "cell_type": "code",
   "execution_count": 3,
   "metadata": {
    "colab": {
     "base_uri": "https://localhost:8080/"
    },
    "id": "hQsoy-m-fR8W",
    "outputId": "c8e11cea-b6f2-41bc-dc1d-1748343a394f"
   },
   "outputs": [
    {
     "name": "stdout",
     "output_type": "stream",
     "text": [
      "Archive:  harware.zip\n",
      "  inflating: Index                   \n",
      "  inflating: machine.data            \n",
      "  inflating: machine.names           \n"
     ]
    }
   ],
   "source": [
    "!rm -rf machine*\n",
    "!rm -rf Index\n",
    "!unzip harware.zip"
   ]
  },
  {
   "cell_type": "code",
   "execution_count": 4,
   "metadata": {
    "id": "LG18chE_mesY"
   },
   "outputs": [],
   "source": [
    "# machine.data contains comma separated values. You can directly read it with pandas using read_csv. If you want, you can rename it as a CSV file\n",
    "#!mv machine.data machine.csv"
   ]
  },
  {
   "cell_type": "code",
   "execution_count": 5,
   "metadata": {
    "id": "4nQs3wobfrgx"
   },
   "outputs": [],
   "source": [
    "import pandas as pd\n",
    "data = pd.read_csv(\"machine.data\", names = ['vendor', 'model_name', 'myct', 'mmin', 'mmax', 'cach', 'chmin', 'chmax', 'prp', 'erp'])"
   ]
  },
  {
   "cell_type": "markdown",
   "metadata": {
    "id": "KRFRV_X1gZaY"
   },
   "source": [
    "### Explore the data"
   ]
  },
  {
   "cell_type": "code",
   "execution_count": 6,
   "metadata": {
    "colab": {
     "base_uri": "https://localhost:8080/",
     "height": 206
    },
    "id": "LK_HjSfLf8YG",
    "outputId": "05e1cea9-45f5-42d3-9b3f-ba92264c5f6d"
   },
   "outputs": [
    {
     "data": {
      "text/html": [
       "<div>\n",
       "<style scoped>\n",
       "    .dataframe tbody tr th:only-of-type {\n",
       "        vertical-align: middle;\n",
       "    }\n",
       "\n",
       "    .dataframe tbody tr th {\n",
       "        vertical-align: top;\n",
       "    }\n",
       "\n",
       "    .dataframe thead th {\n",
       "        text-align: right;\n",
       "    }\n",
       "</style>\n",
       "<table border=\"1\" class=\"dataframe\">\n",
       "  <thead>\n",
       "    <tr style=\"text-align: right;\">\n",
       "      <th></th>\n",
       "      <th>vendor</th>\n",
       "      <th>model_name</th>\n",
       "      <th>myct</th>\n",
       "      <th>mmin</th>\n",
       "      <th>mmax</th>\n",
       "      <th>cach</th>\n",
       "      <th>chmin</th>\n",
       "      <th>chmax</th>\n",
       "      <th>prp</th>\n",
       "      <th>erp</th>\n",
       "    </tr>\n",
       "  </thead>\n",
       "  <tbody>\n",
       "    <tr>\n",
       "      <th>0</th>\n",
       "      <td>adviser</td>\n",
       "      <td>32/60</td>\n",
       "      <td>125</td>\n",
       "      <td>256</td>\n",
       "      <td>6000</td>\n",
       "      <td>256</td>\n",
       "      <td>16</td>\n",
       "      <td>128</td>\n",
       "      <td>198</td>\n",
       "      <td>199</td>\n",
       "    </tr>\n",
       "    <tr>\n",
       "      <th>1</th>\n",
       "      <td>amdahl</td>\n",
       "      <td>470v/7</td>\n",
       "      <td>29</td>\n",
       "      <td>8000</td>\n",
       "      <td>32000</td>\n",
       "      <td>32</td>\n",
       "      <td>8</td>\n",
       "      <td>32</td>\n",
       "      <td>269</td>\n",
       "      <td>253</td>\n",
       "    </tr>\n",
       "    <tr>\n",
       "      <th>2</th>\n",
       "      <td>amdahl</td>\n",
       "      <td>470v/7a</td>\n",
       "      <td>29</td>\n",
       "      <td>8000</td>\n",
       "      <td>32000</td>\n",
       "      <td>32</td>\n",
       "      <td>8</td>\n",
       "      <td>32</td>\n",
       "      <td>220</td>\n",
       "      <td>253</td>\n",
       "    </tr>\n",
       "    <tr>\n",
       "      <th>3</th>\n",
       "      <td>amdahl</td>\n",
       "      <td>470v/7b</td>\n",
       "      <td>29</td>\n",
       "      <td>8000</td>\n",
       "      <td>32000</td>\n",
       "      <td>32</td>\n",
       "      <td>8</td>\n",
       "      <td>32</td>\n",
       "      <td>172</td>\n",
       "      <td>253</td>\n",
       "    </tr>\n",
       "    <tr>\n",
       "      <th>4</th>\n",
       "      <td>amdahl</td>\n",
       "      <td>470v/7c</td>\n",
       "      <td>29</td>\n",
       "      <td>8000</td>\n",
       "      <td>16000</td>\n",
       "      <td>32</td>\n",
       "      <td>8</td>\n",
       "      <td>16</td>\n",
       "      <td>132</td>\n",
       "      <td>132</td>\n",
       "    </tr>\n",
       "  </tbody>\n",
       "</table>\n",
       "</div>"
      ],
      "text/plain": [
       "    vendor model_name  myct  mmin   mmax  cach  chmin  chmax  prp  erp\n",
       "0  adviser      32/60   125   256   6000   256     16    128  198  199\n",
       "1   amdahl     470v/7    29  8000  32000    32      8     32  269  253\n",
       "2   amdahl    470v/7a    29  8000  32000    32      8     32  220  253\n",
       "3   amdahl    470v/7b    29  8000  32000    32      8     32  172  253\n",
       "4   amdahl    470v/7c    29  8000  16000    32      8     16  132  132"
      ]
     },
     "execution_count": 6,
     "metadata": {},
     "output_type": "execute_result"
    }
   ],
   "source": [
    "data.head()"
   ]
  },
  {
   "cell_type": "code",
   "execution_count": 7,
   "metadata": {
    "colab": {
     "base_uri": "https://localhost:8080/"
    },
    "id": "YgMGDRTBgmfn",
    "outputId": "9925fcfe-6333-4cb5-e9f6-9367f04fca27"
   },
   "outputs": [
    {
     "data": {
      "text/plain": [
       "(209, 10)"
      ]
     },
     "execution_count": 7,
     "metadata": {},
     "output_type": "execute_result"
    }
   ],
   "source": [
    "data.shape"
   ]
  },
  {
   "cell_type": "code",
   "execution_count": 8,
   "metadata": {
    "colab": {
     "base_uri": "https://localhost:8080/"
    },
    "id": "yqer1_HggwGB",
    "outputId": "1108393e-35d1-475f-95c4-f1fbfc591766"
   },
   "outputs": [
    {
     "data": {
      "text/plain": [
       "vendor        object\n",
       "model_name    object\n",
       "myct           int64\n",
       "mmin           int64\n",
       "mmax           int64\n",
       "cach           int64\n",
       "chmin          int64\n",
       "chmax          int64\n",
       "prp            int64\n",
       "erp            int64\n",
       "dtype: object"
      ]
     },
     "execution_count": 8,
     "metadata": {},
     "output_type": "execute_result"
    }
   ],
   "source": [
    "data.dtypes"
   ]
  },
  {
   "cell_type": "markdown",
   "metadata": {
    "id": "GY92dgL7hGGp"
   },
   "source": [
    "## III. Data Preprocessing <a class=\"anchor\" id=\"third\"></a>"
   ]
  },
  {
   "cell_type": "markdown",
   "metadata": {
    "id": "u7bVJQiOhLrC",
    "jp-MarkdownHeadingCollapsed": true
   },
   "source": [
    "#### A. Remove Duplicates, if they exist"
   ]
  },
  {
   "cell_type": "code",
   "execution_count": 9,
   "metadata": {
    "colab": {
     "base_uri": "https://localhost:8080/",
     "height": 53
    },
    "id": "amFNzjNqg-ql",
    "outputId": "20d36230-aaba-464c-e983-628658c13ab5"
   },
   "outputs": [
    {
     "data": {
      "text/html": [
       "<div>\n",
       "<style scoped>\n",
       "    .dataframe tbody tr th:only-of-type {\n",
       "        vertical-align: middle;\n",
       "    }\n",
       "\n",
       "    .dataframe tbody tr th {\n",
       "        vertical-align: top;\n",
       "    }\n",
       "\n",
       "    .dataframe thead th {\n",
       "        text-align: right;\n",
       "    }\n",
       "</style>\n",
       "<table border=\"1\" class=\"dataframe\">\n",
       "  <thead>\n",
       "    <tr style=\"text-align: right;\">\n",
       "      <th></th>\n",
       "      <th>vendor</th>\n",
       "      <th>model_name</th>\n",
       "      <th>myct</th>\n",
       "      <th>mmin</th>\n",
       "      <th>mmax</th>\n",
       "      <th>cach</th>\n",
       "      <th>chmin</th>\n",
       "      <th>chmax</th>\n",
       "      <th>prp</th>\n",
       "      <th>erp</th>\n",
       "    </tr>\n",
       "  </thead>\n",
       "  <tbody>\n",
       "  </tbody>\n",
       "</table>\n",
       "</div>"
      ],
      "text/plain": [
       "Empty DataFrame\n",
       "Columns: [vendor, model_name, myct, mmin, mmax, cach, chmin, chmax, prp, erp]\n",
       "Index: []"
      ]
     },
     "execution_count": 9,
     "metadata": {},
     "output_type": "execute_result"
    }
   ],
   "source": [
    "data[data.duplicated(keep = False)]"
   ]
  },
  {
   "cell_type": "markdown",
   "metadata": {
    "id": "oEXQ4ysKhbem"
   },
   "source": [
    "After checking, it seems that there are no rows that are duplicated"
   ]
  },
  {
   "cell_type": "markdown",
   "metadata": {
    "id": "qQQ87Q9xjTX5",
    "jp-MarkdownHeadingCollapsed": true
   },
   "source": [
    "#### B. Drop NA values, if they exist"
   ]
  },
  {
   "cell_type": "code",
   "execution_count": 10,
   "metadata": {
    "id": "ywZI96CYjVw5"
   },
   "outputs": [],
   "source": [
    "for index, i in enumerate(data.isnull().any(axis=1)):\n",
    "  if i:\n",
    "    print(f\"Row {index} contains a Null value\")"
   ]
  },
  {
   "cell_type": "markdown",
   "metadata": {
    "id": "xjFEQwZwkELB"
   },
   "source": [
    "It seems that the data is clean. The rows from the dataset does not contain any missing value"
   ]
  },
  {
   "cell_type": "markdown",
   "metadata": {
    "id": "vWL8DSrCh3lQ"
   },
   "source": [
    "## IV. Features (`X`) and Target (`y`) <a class=\"anchor\" id=\"fourth\"></a>\n",
    "- Out of the dataset columns, I've made an assumption that the myct (machine cycle time), mmax (maximum main memory), cach (cache memory), and chmax (max channnel in unit) are the independent variables `X` with prp as the dependent variable `y`\n",
    "  - The X reasonably affect y\n",
    "  - The X attributes are independent of each other"
   ]
  },
  {
   "cell_type": "code",
   "execution_count": 11,
   "metadata": {
    "id": "3AOlBbK3pa7y"
   },
   "outputs": [],
   "source": [
    "selected_data = data[['myct', 'mmax', 'cach', 'chmax', 'prp']]"
   ]
  },
  {
   "cell_type": "code",
   "execution_count": null,
   "metadata": {
    "colab": {
     "base_uri": "https://localhost:8080/",
     "height": 1000
    },
    "id": "WHOdv8FbSlos",
    "outputId": "ee3900d9-085c-4ac2-fef8-e49e0f6011b6"
   },
   "outputs": [
    {
     "data": {
      "text/plain": [
       "<seaborn.axisgrid.PairGrid at 0x7f7d46da51e0>"
      ]
     },
     "execution_count": 12,
     "metadata": {},
     "output_type": "execute_result"
    }
   ],
   "source": [
    "import seaborn as sns\n",
    "sns.pairplot(selected_data)"
   ]
  },
  {
   "cell_type": "markdown",
   "metadata": {
    "id": "J01RPF5hkTPa"
   },
   "source": [
    "#### A. Examine Column Relationships\n",
    "- the area column will be the dependent variable while the other three (wind, RH [Relative Humidity], and rain) will be the X"
   ]
  },
  {
   "cell_type": "code",
   "execution_count": null,
   "metadata": {},
   "outputs": [],
   "source": [
    "import numpy as np"
   ]
  },
  {
   "cell_type": "code",
   "execution_count": null,
   "metadata": {
    "colab": {
     "base_uri": "https://localhost:8080/"
    },
    "id": "l8addX3kkiGw",
    "outputId": "9005e085-4925-4e81-e11f-7817075e9fc3"
   },
   "outputs": [],
   "source": [
    "np.corrcoef(selected_data['myct'], selected_data['prp'])"
   ]
  },
  {
   "cell_type": "code",
   "execution_count": null,
   "metadata": {
    "colab": {
     "base_uri": "https://localhost:8080/"
    },
    "id": "V_R7kNZtpm48",
    "outputId": "3d412d51-f5f1-4218-cd37-bd2efdb79370"
   },
   "outputs": [],
   "source": [
    "np.corrcoef(selected_data['mmax'], selected_data['prp'])"
   ]
  },
  {
   "cell_type": "code",
   "execution_count": null,
   "metadata": {
    "colab": {
     "base_uri": "https://localhost:8080/"
    },
    "id": "Gn8PbwnipyYJ",
    "outputId": "1861cf83-7a7d-4674-b237-06d46634209e"
   },
   "outputs": [],
   "source": [
    "np.corrcoef(selected_data['cach'], selected_data['prp'])"
   ]
  },
  {
   "cell_type": "code",
   "execution_count": null,
   "metadata": {
    "colab": {
     "base_uri": "https://localhost:8080/"
    },
    "id": "o_PjNzN_p18x",
    "outputId": "cb6de615-9d65-4f10-cc10-1d1a27cc1cac"
   },
   "outputs": [],
   "source": [
    "np.corrcoef(selected_data['chmax'], selected_data['prp'])"
   ]
  },
  {
   "cell_type": "markdown",
   "metadata": {
    "id": "ZHQTcCjbp4iV"
   },
   "source": [
    "- Out of the independent features I've initially selected, only machine cycle time (MYCT) seems to have a weak re (-0.3) to our dependent variable PRP (published relative performance). So, I'll remove it and finalize now the X and y variables\n",
    "- Most of our datapoints are concentrated to the left but there's still enough higher values to make assumptions"
   ]
  },
  {
   "cell_type": "code",
   "execution_count": null,
   "metadata": {
    "id": "s5e8dKIkqRj1"
   },
   "outputs": [],
   "source": [
    "final_data = data[['mmax', 'cach', 'chmax', 'prp']]"
   ]
  },
  {
   "cell_type": "markdown",
   "metadata": {
    "id": "wevoZ61dqHR0"
   },
   "source": [
    "## V. Train and Test subsets <a class=\"anchor\" id=\"fifth\"></a>\n",
    "- 80% train, 20% test"
   ]
  },
  {
   "cell_type": "code",
   "execution_count": null,
   "metadata": {
    "id": "oX3i7Wg7qKWp"
   },
   "outputs": [],
   "source": [
    "from sklearn.model_selection import train_test_split\n",
    "from sklearn.metrics import r2_score, mean_squared_error, root_mean_squared_error\n",
    "import matplotlib.pyplot as plt"
   ]
  },
  {
   "cell_type": "code",
   "execution_count": null,
   "metadata": {
    "id": "383qPLEGq5Hi"
   },
   "outputs": [],
   "source": [
    "train, test = train_test_split(final_data, test_size=0.2, random_state = 69)\n",
    "y_test = test['prp']"
   ]
  },
  {
   "cell_type": "markdown",
   "metadata": {},
   "source": [
    "## VI. Models <a class=\"anchor\" id=\"sixth\"></a>"
   ]
  },
  {
   "cell_type": "code",
   "execution_count": null,
   "metadata": {},
   "outputs": [],
   "source": [
    "from sklearn.linear_model import LinearRegression"
   ]
  },
  {
   "cell_type": "markdown",
   "metadata": {},
   "source": [
    "#### A. mmax x prp"
   ]
  },
  {
   "cell_type": "code",
   "execution_count": null,
   "metadata": {},
   "outputs": [],
   "source": [
    "model_mmax = LinearRegression()\n",
    "model_mmax.fit(train[['mmax']], train['prp'])"
   ]
  },
  {
   "cell_type": "code",
   "execution_count": null,
   "metadata": {},
   "outputs": [],
   "source": [
    "# Prediction \n",
    "x_test_mmax = test[['mmax']]\n",
    "y_pred_mmax = model_mmax.predict(x_test_mmax)\n",
    "\n",
    "# Scoring\n",
    "_r2_score_mmax = r2_score(y_test, y_pred_mmax)\n",
    "_mse_mmax = mean_squared_error(y_test, y_pred_mmax)\n",
    "_rmse_mmax = root_mean_squared_error(y_test, y_pred_mmax)\n",
    "\n",
    "print(f\"R2 Score: {_r2_score_mmax}  |  MSE: {_mse_mmax}  |  RMSE: {_rmse_mmax}\")"
   ]
  },
  {
   "cell_type": "code",
   "execution_count": null,
   "metadata": {},
   "outputs": [],
   "source": [
    "plt.figure(figsize=(12, 6))\n",
    "sns.scatterplot(x=test['mmax'], y=test['prp'], label='Truth')\n",
    "sns.scatterplot(x=test['mmax'], y=y_pred_mmax, label='Prediction', color = 'orange')\n",
    "sns.regplot(x=test['mmax'], y=y_pred_mmax, scatter=False, color = 'orange')\n",
    "plt.xlabel('Maximum Main Memory (MMAX)')\n",
    "plt.ylabel('Published Relative Performance (PRP)')"
   ]
  },
  {
   "cell_type": "markdown",
   "metadata": {},
   "source": [
    "#### B. cach x prp"
   ]
  },
  {
   "cell_type": "code",
   "execution_count": null,
   "metadata": {},
   "outputs": [],
   "source": [
    "model_cach = LinearRegression()\n",
    "model_cach.fit(train[['cach']], train['prp'])"
   ]
  },
  {
   "cell_type": "code",
   "execution_count": null,
   "metadata": {},
   "outputs": [],
   "source": [
    "# Prediction \n",
    "x_test_cach = test[['cach']]\n",
    "y_pred_cach = model_cach.predict(x_test_cach)\n",
    "\n",
    "# Scoring\n",
    "_r2_score_cach = r2_score(y_test, y_pred_cach)\n",
    "_mse_cach = mean_squared_error(y_test, y_pred_cach)\n",
    "_rmse_cach = root_mean_squared_error(y_test, y_pred_cach)\n",
    "\n",
    "print(f\"R2 Score: {_r2_score_cach}  |  MSE: {_mse_cach}  |  RMSE: {_rmse_cach}\")"
   ]
  },
  {
   "cell_type": "code",
   "execution_count": null,
   "metadata": {},
   "outputs": [],
   "source": [
    "plt.figure(figsize=(12, 6))\n",
    "sns.scatterplot(x=test['cach'], y=test['prp'], label='Truth')\n",
    "sns.scatterplot(x=test['cach'], y=y_pred_cach, label='Prediction', color = 'orange')\n",
    "sns.regplot(x=test['cach'], y=y_pred_cach, scatter=False, color = 'orange')\n",
    "plt.xlabel('Cache Memory (CACH)')\n",
    "plt.ylabel('Published Relative Performance (PRP)')"
   ]
  },
  {
   "cell_type": "markdown",
   "metadata": {},
   "source": [
    "#### C. chmax x prp"
   ]
  },
  {
   "cell_type": "code",
   "execution_count": null,
   "metadata": {},
   "outputs": [],
   "source": [
    "model_chmax = LinearRegression()\n",
    "model_chmax.fit(train[['chmax']], train['prp'])"
   ]
  },
  {
   "cell_type": "code",
   "execution_count": null,
   "metadata": {},
   "outputs": [],
   "source": [
    "# Prediction \n",
    "x_test_chmax = test[['chmax']]\n",
    "y_pred_chmax = model_chmax.predict(x_test_chmax)\n",
    "\n",
    "# Scoring\n",
    "_r2_score_chmax = r2_score(y_test, y_pred_chmax)\n",
    "_mse_chmax = mean_squared_error(y_test, y_pred_chmax)\n",
    "_rmse_chmax = root_mean_squared_error(y_test, y_pred_chmax)\n",
    "\n",
    "print(f\"R2 Score: {_r2_score_chmax}  |  MSE: {_mse_chmax}  |  RMSE: {_rmse_chmax}\")"
   ]
  },
  {
   "cell_type": "code",
   "execution_count": null,
   "metadata": {},
   "outputs": [],
   "source": [
    "plt.figure(figsize=(12, 6))\n",
    "sns.scatterplot(x=test['chmax'], y=test['prp'], label='Truth')\n",
    "sns.scatterplot(x=test['chmax'], y=y_pred_chmax, label='Prediction', color = 'orange')\n",
    "sns.regplot(x=test['chmax'], y=y_pred_chmax, scatter=False, color = 'orange')\n",
    "plt.xlabel('Maximum Channels (chmax)')\n",
    "plt.ylabel('Published Relative Performance (PRP)')"
   ]
  },
  {
   "cell_type": "markdown",
   "metadata": {
    "id": "0y5fj3pGrIJ9"
   },
   "source": [
    "## VII. Multilinear Regression Model <a class=\"anchor\" id=\"seventh\"></a>\n",
    "- The features (X) are independent of each other"
   ]
  },
  {
   "cell_type": "code",
   "execution_count": null,
   "metadata": {
    "colab": {
     "base_uri": "https://localhost:8080/",
     "height": 75
    },
    "id": "1WnU_3bIrVWL",
    "outputId": "1fb58390-bb27-47b3-d582-77e5cafbce0b"
   },
   "outputs": [],
   "source": [
    "model_multi = LinearRegression()\n",
    "# Fit the model\n",
    "model_multi.fit(train[['mmax', 'cach', 'chmax']], train['prp'])"
   ]
  },
  {
   "cell_type": "code",
   "execution_count": null,
   "metadata": {
    "id": "3eF47A-mtJ-a"
   },
   "outputs": [],
   "source": [
    "# Prediction\n",
    "x_test = test[['mmax', 'cach', 'chmax']]\n",
    "y_prediction = model_multi.predict(x_test)\n",
    "\n",
    "# Scoring\n",
    "_r2_score = r2_score(y_test, y_prediction)\n",
    "_mse = mean_squared_error(y_test, y_prediction)\n",
    "_rmse = root_mean_squared_error(y_test, y_prediction)\n",
    "print(f\"R2 Score: {_r2_score}  |  MSE: {_mse}  |  RMSE: {_rmse}\")"
   ]
  },
  {
   "cell_type": "code",
   "execution_count": null,
   "metadata": {},
   "outputs": [],
   "source": [
    "temp_df = pd.concat([x_test.reset_index(), pd.DataFrame(y_test).reset_index(), pd.DataFrame(y_prediction, columns = ['predicted_prp'])], axis=1)\n",
    "temp_df.head()"
   ]
  },
  {
   "cell_type": "code",
   "execution_count": null,
   "metadata": {},
   "outputs": [],
   "source": [
    "fig, axes = plt.subplots(1, 3, figsize=(20, 6))\n",
    "\n",
    "# [mmax, prediction]\n",
    "sns.scatterplot( x=temp_df['mmax'], y=temp_df['predicted_prp'], ax=axes[0], label='Prediction', color = 'orange')\n",
    "sns.scatterplot(x=temp_df['mmax'], y=temp_df['prp'], ax=axes[0], label='Truth')\n",
    "axes[0].set_title('[mmax, prediction]')\n",
    "axes[0].set_ylabel('PRP')\n",
    "\n",
    "# [cach, prediction]\n",
    "sns.scatterplot( x=temp_df['cach'], y=temp_df['predicted_prp'], ax=axes[1], label='Prediction', color = 'orange')\n",
    "sns.scatterplot(x=temp_df['cach'], y=temp_df['prp'], ax=axes[1], label='Truth')\n",
    "axes[1].set_title('[cach, prediction]')\n",
    "axes[1].set_ylabel('PRP')\n",
    "\n",
    "# [chmax, prediction]\n",
    "sns.scatterplot( x=temp_df['chmax'], y=temp_df['predicted_prp'], ax=axes[2], label='Prediction', color = 'orange')\n",
    "sns.scatterplot(x=temp_df['cach'], y=temp_df['prp'], ax=axes[2], label='Truth')\n",
    "axes[2].set_ylabel('PRP')\n",
    "axes[2].set_title('[chmax, prediction]')\n",
    "\n",
    "plt.tight_layout()\n",
    "plt.show()"
   ]
  },
  {
   "cell_type": "markdown",
   "metadata": {
    "id": "h5Y1xHipuhhm"
   },
   "source": [
    "## VIII. Saving the Model <a class=\"anchor\" id=\"eigth\"></a>"
   ]
  },
  {
   "cell_type": "code",
   "execution_count": null,
   "metadata": {},
   "outputs": [],
   "source": [
    "from joblib import dump, load"
   ]
  },
  {
   "cell_type": "code",
   "execution_count": null,
   "metadata": {},
   "outputs": [],
   "source": [
    "dump(model_mmax, 'model_mmax.joblib')\n",
    "dump(model_cach, 'model_cach.joblib')\n",
    "dump(model_chmax, 'model_chmax.joblib')\n",
    "dump(model_multi, 'model_multi.joblib')"
   ]
  },
  {
   "cell_type": "code",
   "execution_count": null,
   "metadata": {},
   "outputs": [],
   "source": [
    "# Load the model\n",
    "#model = load('model_multi.joblib')"
   ]
  },
  {
   "cell_type": "code",
   "execution_count": null,
   "metadata": {
    "id": "OdtA4uRovcLq"
   },
   "outputs": [],
   "source": [
    "# Concat the truth and prediction to a single dataset for visualization\n",
    "#temp_data = pd.concat([x_test, pd.DataFrame({'prp_truth': y_test}).reset_index(drop = True), pd.DataFrame({'prp_prediction': y_prediction})], axis = 1)"
   ]
  }
 ],
 "metadata": {
  "colab": {
   "provenance": []
  },
  "kernelspec": {
   "display_name": "Python 3 (ipykernel)",
   "language": "python",
   "name": "python3"
  },
  "language_info": {
   "codemirror_mode": {
    "name": "ipython",
    "version": 3
   },
   "file_extension": ".py",
   "mimetype": "text/x-python",
   "name": "python",
   "nbconvert_exporter": "python",
   "pygments_lexer": "ipython3",
   "version": "3.10.12"
  }
 },
 "nbformat": 4,
 "nbformat_minor": 4
}
